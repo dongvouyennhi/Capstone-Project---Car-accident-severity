{
 "cells": [
  {
   "cell_type": "code",
   "execution_count": 1,
   "metadata": {},
   "outputs": [
    {
     "name": "stderr",
     "output_type": "stream",
     "text": [
      "\n",
      "Bad key \"text.kerning_factor\" on line 4 in\n",
      "C:\\Users\\jrizz_000\\anaconda3\\anaconda3\\envs\\learn-env\\lib\\site-packages\\matplotlib\\mpl-data\\stylelib\\_classic_test_patch.mplstyle.\n",
      "You probably need to get an updated matplotlibrc file from\n",
      "https://github.com/matplotlib/matplotlib/blob/v3.1.3/matplotlibrc.template\n",
      "or from the matplotlib source distribution\n"
     ]
    }
   ],
   "source": [
    "import pandas as pd\n",
    "import numpy as np\n",
    "%matplotlib inline\n",
    "import matplotlib.pyplot as plt\n",
    "import seaborn as sns\n",
    "from IPython.display import Image\n"
   ]
  },
  {
   "cell_type": "code",
   "execution_count": 2,
   "metadata": {},
   "outputs": [],
   "source": [
    "from sklearn.metrics import roc_curve\n",
    "from sklearn.metrics import roc_auc_score\n",
    "import pandas as pd\n",
    "import matplotlib.pyplot as plt\n",
    "import seaborn as sns\n",
    "from sklearn.linear_model import Ridge\n",
    "import numpy as np\n",
    "from collections import Counter\n",
    "import imblearn\n",
    "from imblearn.over_sampling import SMOTE\n",
    "from sklearn.model_selection import KFold\n",
    "from imblearn.pipeline import make_pipeline as make_pipeline_imb\n",
    "from imblearn.under_sampling import NearMiss\n",
    "from imblearn.metrics import classification_report_imbalanced\n",
    "from sklearn.preprocessing import MinMaxScaler, StandardScaler\n",
    "from sklearn.neighbors import KNeighborsClassifier\n",
    "from sklearn.ensemble import VotingClassifier,AdaBoostClassifier,RandomForestClassifier,ExtraTreesClassifier,GradientBoostingClassifier,GradientBoostingRegressor\n",
    "from sklearn.tree import DecisionTreeClassifier\n",
    "from sklearn.feature_selection import VarianceThreshold\n",
    "from sklearn import datasets \n",
    "from sklearn.naive_bayes import GaussianNB \n",
    "import xgboost as xgb \n",
    "from sklearn.model_selection import train_test_split, GridSearchCV\n",
    "from sklearn.decomposition import PCA\n",
    "from sklearn.tree import export_graphviz\n",
    "from sklearn import tree\n",
    "from sklearn.pipeline import make_pipeline\n",
    "from sklearn.neural_network import MLPClassifier\n",
    "from sklearn.metrics import confusion_matrix, accuracy_score \n",
    "from sklearn.metrics import plot_confusion_matrix\n",
    "from sklearn import metrics\n",
    "from sklearn.decomposition import TruncatedSVD\n",
    "from sklearn.svm import SVC \n",
    "import sklearn\n",
    "from multi_imbalance.resampling.mdo import MDO \n",
    "from sklearn.model_selection import validation_curve\n",
    "from sklearn.ensemble import GradientBoostingClassifier\n",
    "from sklearn.linear_model import LogisticRegression\n",
    "from sklearn.metrics import f1_score,confusion_matrix,classification_report,make_scorer,average_precision_score,precision_recall_curve,recall_score,precision_score"
   ]
  },
  {
   "cell_type": "code",
   "execution_count": 3,
   "metadata": {
    "scrolled": true
   },
   "outputs": [
    {
     "name": "stderr",
     "output_type": "stream",
     "text": [
      "C:\\Users\\jrizz_000\\anaconda3\\anaconda3\\envs\\learn-env\\lib\\site-packages\\IPython\\core\\interactiveshell.py:3072: DtypeWarning: Columns (19,21,40,41,42,44,48,49,50,55,58,59,61) have mixed types. Specify dtype option on import or set low_memory=False.\n",
      "  interactivity=interactivity, compiler=compiler, result=result)\n",
      "C:\\Users\\jrizz_000\\anaconda3\\anaconda3\\envs\\learn-env\\lib\\site-packages\\IPython\\core\\interactiveshell.py:3072: DtypeWarning: Columns (11) have mixed types. Specify dtype option on import or set low_memory=False.\n",
      "  interactivity=interactivity, compiler=compiler, result=result)\n",
      "C:\\Users\\jrizz_000\\anaconda3\\anaconda3\\envs\\learn-env\\lib\\site-packages\\IPython\\core\\interactiveshell.py:3072: DtypeWarning: Columns (12,13,20,21,22,23,24,25,26,27,29) have mixed types. Specify dtype option on import or set low_memory=False.\n",
      "  interactivity=interactivity, compiler=compiler, result=result)\n"
     ]
    }
   ],
   "source": [
    "df = pd.read_csv('veh.csv')\n",
    "dc = pd.read_csv('crashes.csv')\n",
    "dp = pd.read_csv('ppl.csv')"
   ]
  },
  {
   "cell_type": "code",
   "execution_count": 4,
   "metadata": {},
   "outputs": [
    {
     "data": {
      "text/plain": [
       "Y    930\n",
       "N    429\n",
       "Name: DOORING_I, dtype: int64"
      ]
     },
     "execution_count": 4,
     "metadata": {},
     "output_type": "execute_result"
    }
   ],
   "source": [
    "dc.DOORING_I.value_counts()"
   ]
  },
  {
   "cell_type": "code",
   "execution_count": 5,
   "metadata": {},
   "outputs": [
    {
     "data": {
      "text/plain": [
       "('DEVICE_CONDITION', 'ROAD_DEFECT', 'ALIGNMENT')"
      ]
     },
     "execution_count": 5,
     "metadata": {},
     "output_type": "execute_result"
    }
   ],
   "source": [
    "'DEVICE_CONDITION','ROAD_DEFECT','ALIGNMENT',"
   ]
  },
  {
   "cell_type": "code",
   "execution_count": 6,
   "metadata": {},
   "outputs": [],
   "source": [
    "dc[['STREET_DIRECTION', 'STREET_NAME']] = dc[['STREET_DIRECTION', 'STREET_NAME']].astype(str)\n",
    "dc['STREET']= dc['STREET_DIRECTION'] + ' ' + dc['STREET_NAME']"
   ]
  },
  {
   "cell_type": "code",
   "execution_count": 7,
   "metadata": {
    "scrolled": true
   },
   "outputs": [
    {
     "data": {
      "text/plain": [
       "CRASH_RECORD_ID                       0\n",
       "RD_NO                              3876\n",
       "CRASH_DATE_EST_I                 387026\n",
       "CRASH_DATE                            0\n",
       "POSTED_SPEED_LIMIT                    0\n",
       "TRAFFIC_CONTROL_DEVICE                0\n",
       "DEVICE_CONDITION                      0\n",
       "WEATHER_CONDITION                     0\n",
       "LIGHTING_CONDITION                    0\n",
       "FIRST_CRASH_TYPE                      0\n",
       "TRAFFICWAY_TYPE                       0\n",
       "LANE_CNT                         219457\n",
       "ALIGNMENT                             0\n",
       "ROADWAY_SURFACE_COND                  0\n",
       "ROAD_DEFECT                           0\n",
       "REPORT_TYPE                        9886\n",
       "CRASH_TYPE                            0\n",
       "INTERSECTION_RELATED_I           324630\n",
       "NOT_RIGHT_OF_WAY_I               398456\n",
       "HIT_AND_RUN_I                    299622\n",
       "DAMAGE                                0\n",
       "DATE_POLICE_NOTIFIED                  0\n",
       "PRIM_CONTRIBUTORY_CAUSE               0\n",
       "SEC_CONTRIBUTORY_CAUSE                0\n",
       "STREET_NO                             0\n",
       "STREET_DIRECTION                      0\n",
       "STREET_NAME                           0\n",
       "BEAT_OF_OCCURRENCE                    4\n",
       "PHOTOS_TAKEN_I                   412733\n",
       "STATEMENTS_TAKEN_I               409532\n",
       "DOORING_I                        416653\n",
       "WORK_ZONE_I                      415190\n",
       "WORK_ZONE_TYPE                   415775\n",
       "WORKERS_PRESENT_I                417340\n",
       "NUM_UNITS                          1781\n",
       "MOST_SEVERE_INJURY                 2680\n",
       "INJURIES_TOTAL                     2673\n",
       "INJURIES_FATAL                     2673\n",
       "INJURIES_INCAPACITATING            2673\n",
       "INJURIES_NON_INCAPACITATING        2673\n",
       "INJURIES_REPORTED_NOT_EVIDENT      2673\n",
       "INJURIES_NO_INDICATION             2673\n",
       "INJURIES_UNKNOWN                   2673\n",
       "CRASH_HOUR                            0\n",
       "CRASH_DAY_OF_WEEK                     0\n",
       "CRASH_MONTH                           0\n",
       "LATITUDE                           2278\n",
       "LONGITUDE                          2278\n",
       "LOCATION                           2278\n",
       "STREET                                0\n",
       "dtype: int64"
      ]
     },
     "execution_count": 7,
     "metadata": {},
     "output_type": "execute_result"
    }
   ],
   "source": [
    "pd.isnull(dc).sum()"
   ]
  },
  {
   "cell_type": "code",
   "execution_count": 8,
   "metadata": {},
   "outputs": [],
   "source": [
    "dc['CRASH_YEAR'] = pd.DatetimeIndex(dc['CRASH_DATE']).year"
   ]
  },
  {
   "cell_type": "code",
   "execution_count": null,
   "metadata": {},
   "outputs": [],
   "source": []
  },
  {
   "cell_type": "code",
   "execution_count": 9,
   "metadata": {},
   "outputs": [
    {
     "name": "stdout",
     "output_type": "stream",
     "text": [
      "(897406, 30)\n",
      "410559\n"
     ]
    }
   ],
   "source": [
    "print(dp.shape)\n",
    "print(len(dp['CRASH_RECORD_ID'].unique()))"
   ]
  },
  {
   "cell_type": "code",
   "execution_count": 10,
   "metadata": {},
   "outputs": [],
   "source": [
    "newdp = dp[(dp.PERSON_TYPE == \"DRIVER\")]"
   ]
  },
  {
   "cell_type": "code",
   "execution_count": 11,
   "metadata": {},
   "outputs": [
    {
     "name": "stdout",
     "output_type": "stream",
     "text": [
      "(704250, 30)\n",
      "409909\n"
     ]
    }
   ],
   "source": [
    "print(newdp.shape)\n",
    "print(len(newdp['CRASH_RECORD_ID'].unique()))"
   ]
  },
  {
   "cell_type": "code",
   "execution_count": 12,
   "metadata": {},
   "outputs": [
    {
     "name": "stdout",
     "output_type": "stream",
     "text": [
      "(418012, 51)\n",
      "418012\n"
     ]
    }
   ],
   "source": [
    "print(dc.shape)\n",
    "print(len(dc['CRASH_RECORD_ID'].unique()))"
   ]
  },
  {
   "cell_type": "code",
   "execution_count": 13,
   "metadata": {},
   "outputs": [
    {
     "name": "stdout",
     "output_type": "stream",
     "text": [
      "(840901, 72)\n",
      "415951\n"
     ]
    }
   ],
   "source": [
    "print(df.shape)\n",
    "print(len(df['CRASH_RECORD_ID'].unique()))"
   ]
  },
  {
   "cell_type": "code",
   "execution_count": 14,
   "metadata": {},
   "outputs": [],
   "source": [
    "t = pd.merge(df, newdp, how='left', on=['CRASH_RECORD_ID'])"
   ]
  },
  {
   "cell_type": "code",
   "execution_count": 15,
   "metadata": {
    "scrolled": true
   },
   "outputs": [
    {
     "name": "stdout",
     "output_type": "stream",
     "text": [
      "(1468644, 101)\n",
      "415951\n"
     ]
    }
   ],
   "source": [
    "print(t.shape)\n",
    "print(len(t['CRASH_RECORD_ID'].unique()))"
   ]
  },
  {
   "cell_type": "code",
   "execution_count": 16,
   "metadata": {},
   "outputs": [],
   "source": [
    "d = pd.merge(t, dc, how='left', on=['CRASH_RECORD_ID'])"
   ]
  },
  {
   "cell_type": "code",
   "execution_count": 17,
   "metadata": {},
   "outputs": [
    {
     "name": "stdout",
     "output_type": "stream",
     "text": [
      "(1468644, 151)\n",
      "415951\n"
     ]
    }
   ],
   "source": [
    "print(d.shape)\n",
    "print(len(d['CRASH_RECORD_ID'].unique()))\n"
   ]
  },
  {
   "cell_type": "code",
   "execution_count": 18,
   "metadata": {},
   "outputs": [],
   "source": [
    "d = d.drop_duplicates(subset=['CRASH_RECORD_ID'], keep='first')"
   ]
  },
  {
   "cell_type": "code",
   "execution_count": 19,
   "metadata": {
    "scrolled": false
   },
   "outputs": [
    {
     "data": {
      "text/plain": [
       "UNKNOWN                              120740\n",
       "FAILED TO YIELD                       63078\n",
       "FOLLOWED TOO CLOSELY                  46509\n",
       "OTHER                                 41048\n",
       "NONE                                  34341\n",
       "IMPROPER BACKING                      22877\n",
       "IMPROPER LANE CHANGE                  18770\n",
       "IMPROPER TURN                         18072\n",
       "IMPROPER PASSING                      15215\n",
       "TOO FAST FOR CONDITIONS               11031\n",
       "DISREGARDED CONTROL DEVICES            9869\n",
       "IMPROPER PARKING                       2810\n",
       "WRONG WAY/SIDE                         2210\n",
       "EVADING POLICE VEHICLE                 1136\n",
       "CELL PHONE USE OTHER THAN TEXTING      1088\n",
       "OVERCORRECTED                           411\n",
       "EMERGENCY VEHICLE ON CALL               352\n",
       "TEXTING                                 297\n",
       "STOPPED SCHOOL BUS                       26\n",
       "LICENSE RESTRICTIONS                     21\n",
       "Name: DRIVER_ACTION, dtype: int64"
      ]
     },
     "execution_count": 19,
     "metadata": {},
     "output_type": "execute_result"
    }
   ],
   "source": [
    "d.DRIVER_ACTION.value_counts()"
   ]
  },
  {
   "cell_type": "code",
   "execution_count": 20,
   "metadata": {
    "scrolled": true
   },
   "outputs": [
    {
     "data": {
      "text/plain": [
       "['CRASH_UNIT_ID',\n",
       " 'CRASH_RECORD_ID',\n",
       " 'RD_NO_x',\n",
       " 'CRASH_DATE_x',\n",
       " 'UNIT_NO',\n",
       " 'UNIT_TYPE',\n",
       " 'NUM_PASSENGERS',\n",
       " 'VEHICLE_ID_x',\n",
       " 'CMRC_VEH_I',\n",
       " 'MAKE',\n",
       " 'MODEL',\n",
       " 'LIC_PLATE_STATE',\n",
       " 'VEHICLE_YEAR',\n",
       " 'VEHICLE_DEFECT',\n",
       " 'VEHICLE_TYPE',\n",
       " 'VEHICLE_USE',\n",
       " 'TRAVEL_DIRECTION',\n",
       " 'MANEUVER',\n",
       " 'TOWED_I',\n",
       " 'FIRE_I',\n",
       " 'OCCUPANT_CNT',\n",
       " 'EXCEED_SPEED_LIMIT_I',\n",
       " 'TOWED_BY',\n",
       " 'TOWED_TO',\n",
       " 'AREA_00_I',\n",
       " 'AREA_01_I',\n",
       " 'AREA_02_I',\n",
       " 'AREA_03_I',\n",
       " 'AREA_04_I',\n",
       " 'AREA_05_I',\n",
       " 'AREA_06_I',\n",
       " 'AREA_07_I',\n",
       " 'AREA_08_I',\n",
       " 'AREA_09_I',\n",
       " 'AREA_10_I',\n",
       " 'AREA_11_I',\n",
       " 'AREA_12_I',\n",
       " 'AREA_99_I',\n",
       " 'FIRST_CONTACT_POINT',\n",
       " 'CMV_ID',\n",
       " 'USDOT_NO',\n",
       " 'CCMC_NO',\n",
       " 'ILCC_NO',\n",
       " 'COMMERCIAL_SRC',\n",
       " 'GVWR',\n",
       " 'CARRIER_NAME',\n",
       " 'CARRIER_STATE',\n",
       " 'CARRIER_CITY',\n",
       " 'HAZMAT_PLACARDS_I',\n",
       " 'HAZMAT_NAME',\n",
       " 'UN_NO',\n",
       " 'HAZMAT_PRESENT_I',\n",
       " 'HAZMAT_REPORT_I',\n",
       " 'HAZMAT_REPORT_NO',\n",
       " 'MCS_REPORT_I',\n",
       " 'MCS_REPORT_NO',\n",
       " 'HAZMAT_VIO_CAUSE_CRASH_I',\n",
       " 'MCS_VIO_CAUSE_CRASH_I',\n",
       " 'IDOT_PERMIT_NO',\n",
       " 'WIDE_LOAD_I',\n",
       " 'TRAILER1_WIDTH',\n",
       " 'TRAILER2_WIDTH',\n",
       " 'TRAILER1_LENGTH',\n",
       " 'TRAILER2_LENGTH',\n",
       " 'TOTAL_VEHICLE_LENGTH',\n",
       " 'AXLE_CNT',\n",
       " 'VEHICLE_CONFIG',\n",
       " 'CARGO_BODY_TYPE',\n",
       " 'LOAD_TYPE',\n",
       " 'HAZMAT_OUT_OF_SERVICE_I',\n",
       " 'MCS_OUT_OF_SERVICE_I',\n",
       " 'HAZMAT_CLASS',\n",
       " 'PERSON_ID',\n",
       " 'PERSON_TYPE',\n",
       " 'RD_NO_y',\n",
       " 'VEHICLE_ID_y',\n",
       " 'CRASH_DATE_y',\n",
       " 'SEAT_NO',\n",
       " 'CITY',\n",
       " 'STATE',\n",
       " 'ZIPCODE',\n",
       " 'SEX',\n",
       " 'AGE',\n",
       " 'DRIVERS_LICENSE_STATE',\n",
       " 'DRIVERS_LICENSE_CLASS',\n",
       " 'SAFETY_EQUIPMENT',\n",
       " 'AIRBAG_DEPLOYED',\n",
       " 'EJECTION',\n",
       " 'INJURY_CLASSIFICATION',\n",
       " 'HOSPITAL',\n",
       " 'EMS_AGENCY',\n",
       " 'EMS_RUN_NO',\n",
       " 'DRIVER_ACTION',\n",
       " 'DRIVER_VISION',\n",
       " 'PHYSICAL_CONDITION',\n",
       " 'PEDPEDAL_ACTION',\n",
       " 'PEDPEDAL_VISIBILITY',\n",
       " 'PEDPEDAL_LOCATION',\n",
       " 'BAC_RESULT',\n",
       " 'BAC_RESULT VALUE',\n",
       " 'CELL_PHONE_USE',\n",
       " 'RD_NO',\n",
       " 'CRASH_DATE_EST_I',\n",
       " 'CRASH_DATE',\n",
       " 'POSTED_SPEED_LIMIT',\n",
       " 'TRAFFIC_CONTROL_DEVICE',\n",
       " 'DEVICE_CONDITION',\n",
       " 'WEATHER_CONDITION',\n",
       " 'LIGHTING_CONDITION',\n",
       " 'FIRST_CRASH_TYPE',\n",
       " 'TRAFFICWAY_TYPE',\n",
       " 'LANE_CNT',\n",
       " 'ALIGNMENT',\n",
       " 'ROADWAY_SURFACE_COND',\n",
       " 'ROAD_DEFECT',\n",
       " 'REPORT_TYPE',\n",
       " 'CRASH_TYPE',\n",
       " 'INTERSECTION_RELATED_I',\n",
       " 'NOT_RIGHT_OF_WAY_I',\n",
       " 'HIT_AND_RUN_I',\n",
       " 'DAMAGE',\n",
       " 'DATE_POLICE_NOTIFIED',\n",
       " 'PRIM_CONTRIBUTORY_CAUSE',\n",
       " 'SEC_CONTRIBUTORY_CAUSE',\n",
       " 'STREET_NO',\n",
       " 'STREET_DIRECTION',\n",
       " 'STREET_NAME',\n",
       " 'BEAT_OF_OCCURRENCE',\n",
       " 'PHOTOS_TAKEN_I',\n",
       " 'STATEMENTS_TAKEN_I',\n",
       " 'DOORING_I',\n",
       " 'WORK_ZONE_I',\n",
       " 'WORK_ZONE_TYPE',\n",
       " 'WORKERS_PRESENT_I',\n",
       " 'NUM_UNITS',\n",
       " 'MOST_SEVERE_INJURY',\n",
       " 'INJURIES_TOTAL',\n",
       " 'INJURIES_FATAL',\n",
       " 'INJURIES_INCAPACITATING',\n",
       " 'INJURIES_NON_INCAPACITATING',\n",
       " 'INJURIES_REPORTED_NOT_EVIDENT',\n",
       " 'INJURIES_NO_INDICATION',\n",
       " 'INJURIES_UNKNOWN',\n",
       " 'CRASH_HOUR',\n",
       " 'CRASH_DAY_OF_WEEK',\n",
       " 'CRASH_MONTH',\n",
       " 'LATITUDE',\n",
       " 'LONGITUDE',\n",
       " 'LOCATION',\n",
       " 'STREET',\n",
       " 'CRASH_YEAR']"
      ]
     },
     "execution_count": 20,
     "metadata": {},
     "output_type": "execute_result"
    }
   ],
   "source": [
    "list(d.columns)"
   ]
  },
  {
   "cell_type": "code",
   "execution_count": 21,
   "metadata": {
    "scrolled": true
   },
   "outputs": [
    {
     "data": {
      "text/plain": [
       "<matplotlib.axes._subplots.AxesSubplot at 0x209ee8a6908>"
      ]
     },
     "execution_count": 21,
     "metadata": {},
     "output_type": "execute_result"
    },
    {
     "data": {
      "image/png": "[encoded data removed]",
      "text/plain": [
       "<Figure size 432x288 with 1 Axes>"
      ]
     },
     "metadata": {
      "needs_background": "light"
     },
     "output_type": "display_data"
    }
   ],
   "source": [
    "d.PRIM_CONTRIBUTORY_CAUSE.value_counts().plot(kind='bar')"
   ]
  },
  {
   "cell_type": "code",
   "execution_count": 64,
   "metadata": {},
   "outputs": [],
   "source": [
    "columnss = ['PHYSICAL_CONDITION','DAMAGE','REPORT_TYPE','VEHICLE_TYPE',\n",
    "            'VEHICLE_YEAR','UNIT_NO','NUM_UNITS','DEVICE_CONDITION',\n",
    "            'CRASH_RECORD_ID','HIT_AND_RUN_I','VEHICLE_USE','DRIVERS_LICENSE_CLASS',\n",
    "            'POSTED_SPEED_LIMIT', 'TRAFFIC_CONTROL_DEVICE','DRIVER_VISION',\n",
    "            'ROADWAY_SURFACE_COND','OCCUPANT_CNT','WEATHER_CONDITION', 'LIGHTING_CONDITION',\n",
    "            'FIRST_CRASH_TYPE','BAC_RESULT','TRAFFICWAY_TYPE','CRASH_TYPE','LATITUDE','LONGITUDE',\n",
    "            'PRIM_CONTRIBUTORY_CAUSE','INJURIES_TOTAL','EXCEED_SPEED_LIMIT_I',\n",
    "            'INJURIES_FATAL','MANEUVER','DRIVER_ACTION','TRAVEL_DIRECTION','CRASH_HOUR',\n",
    "            'CRASH_DAY_OF_WEEK','CRASH_MONTH', 'STREET','MOST_SEVERE_INJURY',\n",
    "            'CRASH_YEAR', 'ROAD_DEFECT','ALIGNMENT',\n",
    "            'AGE','LANE_CNT','INTERSECTION_RELATED_I',\"CELL_PHONE_USE\",\"NOT_RIGHT_OF_WAY_I\"]\n",
    "\n",
    "x = d[columnss]"
   ]
  },
  {
   "cell_type": "code",
   "execution_count": 65,
   "metadata": {
    "scrolled": true
   },
   "outputs": [
    {
     "data": {
      "text/plain": [
       "(415951, 45)"
      ]
     },
     "execution_count": 65,
     "metadata": {},
     "output_type": "execute_result"
    }
   ],
   "source": [
    "x.shape"
   ]
  },
  {
   "cell_type": "code",
   "execution_count": 66,
   "metadata": {},
   "outputs": [],
   "source": [
    "\n",
    "# x = x[(x.WEATHER_CONDITION != \"UNKNOWN\")]\n",
    "# x = x[(x.LIGHTING_CONDITION != \"UNKNOWN\")]\n",
    "# x = x[(x.TRAFFICWAY_TYPE != \"NOT REPORTED\")]\n",
    "# x = x[(x.TRAFFICWAY_TYPE != \"OTHER\")]\n",
    "# x = x[(x.TRAFFICWAY_TYPE != \"UNKNOWN\")]\n",
    "# x = x[(x.ROADWAY_SURFACE_COND != \"OTHER\")]\n",
    "# x = x[(x.ROADWAY_SURFACE_COND != \"UNKNOWN\")]\n",
    "# x = x[(x.DRIVER_VISION != \"OTHER\")]\n",
    "# x = x[(x.DRIVER_VISION != \"UNKNOWN\")]\n"
   ]
  },
  {
   "cell_type": "code",
   "execution_count": 67,
   "metadata": {
    "scrolled": false
   },
   "outputs": [],
   "source": [
    "x.EXCEED_SPEED_LIMIT_I = x.EXCEED_SPEED_LIMIT_I.map(dict(Y=1, N=0))\n",
    "x.CELL_PHONE_USE = x.CELL_PHONE_USE.map(dict(Y=1, N=0))\n",
    "x.NOT_RIGHT_OF_WAY_I = x.NOT_RIGHT_OF_WAY_I.map(dict(Y=1, N=0))\n",
    "x.INTERSECTION_RELATED_I = x.INTERSECTION_RELATED_I.map(dict(Y=1, N=0))"
   ]
  },
  {
   "cell_type": "code",
   "execution_count": 68,
   "metadata": {
    "scrolled": true
   },
   "outputs": [
    {
     "data": {
      "text/plain": [
       "PHYSICAL_CONDITION           6050\n",
       "DAMAGE                          0\n",
       "REPORT_TYPE                  9130\n",
       "VEHICLE_TYPE                 3679\n",
       "VEHICLE_YEAR               107020\n",
       "UNIT_NO                         0\n",
       "NUM_UNITS                       1\n",
       "DEVICE_CONDITION                0\n",
       "CRASH_RECORD_ID                 0\n",
       "HIT_AND_RUN_I              298284\n",
       "VEHICLE_USE                  3679\n",
       "DRIVERS_LICENSE_CLASS      189614\n",
       "POSTED_SPEED_LIMIT              0\n",
       "TRAFFIC_CONTROL_DEVICE          0\n",
       "DRIVER_VISION                6050\n",
       "ROADWAY_SURFACE_COND            0\n",
       "OCCUPANT_CNT                 3679\n",
       "WEATHER_CONDITION               0\n",
       "LIGHTING_CONDITION              0\n",
       "FIRST_CRASH_TYPE                0\n",
       "BAC_RESULT                   6050\n",
       "TRAFFICWAY_TYPE                 0\n",
       "CRASH_TYPE                      0\n",
       "LATITUDE                     2268\n",
       "LONGITUDE                    2268\n",
       "PRIM_CONTRIBUTORY_CAUSE         0\n",
       "INJURIES_TOTAL                893\n",
       "EXCEED_SPEED_LIMIT_I       413832\n",
       "INJURIES_FATAL                893\n",
       "MANEUVER                     3679\n",
       "DRIVER_ACTION                6050\n",
       "TRAVEL_DIRECTION             3679\n",
       "CRASH_HOUR                      0\n",
       "CRASH_DAY_OF_WEEK               0\n",
       "CRASH_MONTH                     0\n",
       "STREET                          0\n",
       "MOST_SEVERE_INJURY            900\n",
       "CRASH_YEAR                      0\n",
       "ROAD_DEFECT                     0\n",
       "ALIGNMENT                       0\n",
       "AGE                        161855\n",
       "LANE_CNT                   217846\n",
       "INTERSECTION_RELATED_I     323155\n",
       "CELL_PHONE_USE             415104\n",
       "NOT_RIGHT_OF_WAY_I         396510\n",
       "dtype: int64"
      ]
     },
     "execution_count": 68,
     "metadata": {},
     "output_type": "execute_result"
    }
   ],
   "source": [
    "pd.isnull(x).sum()"
   ]
  },
  {
   "cell_type": "code",
   "execution_count": 69,
   "metadata": {
    "scrolled": true
   },
   "outputs": [
    {
     "name": "stderr",
     "output_type": "stream",
     "text": [
      "C:\\Users\\jrizz_000\\anaconda3\\anaconda3\\envs\\learn-env\\lib\\site-packages\\ipykernel_launcher.py:1: SettingWithCopyWarning: \n",
      "A value is trying to be set on a copy of a slice from a DataFrame\n",
      "\n",
      "See the caveats in the documentation: http://pandas.pydata.org/pandas-docs/stable/user_guide/indexing.html#returning-a-view-versus-a-copy\n",
      "  \"\"\"Entry point for launching an IPython kernel.\n",
      "C:\\Users\\jrizz_000\\anaconda3\\anaconda3\\envs\\learn-env\\lib\\site-packages\\ipykernel_launcher.py:2: SettingWithCopyWarning: \n",
      "A value is trying to be set on a copy of a slice from a DataFrame\n",
      "\n",
      "See the caveats in the documentation: http://pandas.pydata.org/pandas-docs/stable/user_guide/indexing.html#returning-a-view-versus-a-copy\n",
      "  \n",
      "C:\\Users\\jrizz_000\\anaconda3\\anaconda3\\envs\\learn-env\\lib\\site-packages\\ipykernel_launcher.py:3: SettingWithCopyWarning: \n",
      "A value is trying to be set on a copy of a slice from a DataFrame\n",
      "\n",
      "See the caveats in the documentation: http://pandas.pydata.org/pandas-docs/stable/user_guide/indexing.html#returning-a-view-versus-a-copy\n",
      "  This is separate from the ipykernel package so we can avoid doing imports until\n",
      "C:\\Users\\jrizz_000\\anaconda3\\anaconda3\\envs\\learn-env\\lib\\site-packages\\ipykernel_launcher.py:4: SettingWithCopyWarning: \n",
      "A value is trying to be set on a copy of a slice from a DataFrame\n",
      "\n",
      "See the caveats in the documentation: http://pandas.pydata.org/pandas-docs/stable/user_guide/indexing.html#returning-a-view-versus-a-copy\n",
      "  after removing the cwd from sys.path.\n",
      "C:\\Users\\jrizz_000\\anaconda3\\anaconda3\\envs\\learn-env\\lib\\site-packages\\ipykernel_launcher.py:5: SettingWithCopyWarning: \n",
      "A value is trying to be set on a copy of a slice from a DataFrame\n",
      "\n",
      "See the caveats in the documentation: http://pandas.pydata.org/pandas-docs/stable/user_guide/indexing.html#returning-a-view-versus-a-copy\n",
      "  \"\"\"\n"
     ]
    }
   ],
   "source": [
    "x.dropna(subset=['LONGITUDE'],  inplace = True)\n",
    "x.dropna(subset=['DRIVER_ACTION'],  inplace = True)\n",
    "x.dropna(subset=['TRAVEL_DIRECTION'],  inplace = True)\n",
    "x.dropna(subset=['DRIVERS_LICENSE_CLASS'],  inplace = True)\n",
    "x.dropna(subset=['DRIVER_VISION'],  inplace = True)"
   ]
  },
  {
   "cell_type": "code",
   "execution_count": 70,
   "metadata": {
    "scrolled": true
   },
   "outputs": [],
   "source": [
    "x[\"LANE_CNT\"].fillna(x[\"LANE_CNT\"].mode()[0], inplace = True) \n",
    "x[\"AGE\"].fillna(x[\"AGE\"].mode()[0], inplace = True)\n",
    "# x[\"VEHICLE_YEAR\"].fillna(x[\"VEHICLE_YEAR\"].mode()[0], inplace = True)\n",
    "# x[\"DRIVER_VISION\"].fillna(x[\"DRIVER_VISION\"].mode()[0], inplace = True)\n",
    "# x[\"MANEUVER\"].fillna(x[\"MANEUVER\"].mode()[0], inplace = True)\n",
    "\n",
    "x[\"AGE\"].fillna(x[\"AGE\"].mode()[0], inplace = True)\n",
    "x[\"INJURIES_TOTAL\"].fillna(x[\"INJURIES_TOTAL\"].mode()[0], inplace = True)\n",
    "x[\"BAC_RESULT\"].fillna(x[\"BAC_RESULT\"].mode()[0], inplace = True)\n",
    "x[\"OCCUPANT_CNT\"].fillna(x[\"OCCUPANT_CNT\"].mode()[0], inplace = True)\n",
    "x[\"INJURIES_FATAL\"].fillna(x[\"INJURIES_FATAL\"].mode()[0], inplace = True)\n",
    "x[\"MOST_SEVERE_INJURY\"].fillna(x[\"MOST_SEVERE_INJURY\"].mode()[0], inplace = True)\n"
   ]
  },
  {
   "cell_type": "code",
   "execution_count": 71,
   "metadata": {
    "scrolled": false
   },
   "outputs": [
    {
     "name": "stderr",
     "output_type": "stream",
     "text": [
      "C:\\Users\\jrizz_000\\anaconda3\\anaconda3\\envs\\learn-env\\lib\\site-packages\\ipykernel_launcher.py:2: SettingWithCopyWarning: \n",
      "A value is trying to be set on a copy of a slice from a DataFrame.\n",
      "Try using .loc[row_indexer,col_indexer] = value instead\n",
      "\n",
      "See the caveats in the documentation: http://pandas.pydata.org/pandas-docs/stable/user_guide/indexing.html#returning-a-view-versus-a-copy\n",
      "  \n"
     ]
    }
   ],
   "source": [
    "#x['AGE'] = x['AGE'].map(lambda x: '<20' if (x < 20) else '<30' if (x >= 20 and x < 30) else '<40'if (x >= 30 and x < 40) else '<50'if (x >= 40 and x < 50) else '<60'if (x >= 50 and x < 60) else '60+')\n",
    "x['CRASH_HOUR'] = x['CRASH_HOUR'].map(lambda x: 'After midnight' if (x <= 6) else 'Morning' if (x >= 6 and x <= 12) else 'Afternoon' if (x >= 12 and x <= 18) else 'Night')\n",
    "#x['POSTED_SPEED_LIMIT'] = x['POSTED_SPEED_LIMIT'].map(lambda x: 5 if (x <= 5) else 10 if (x > 5 and x <= 15) \n",
    "#                                                       else 20 if (x > 15 and x <= 20) else 30 if (x > 20 and x <= 30) \n",
    "#                                                       else 40 if (x > 35 and x <= 40) else 50 if (x > 40 and x <= 50)\n",
    "#                                                       else 60 if (x > 55 and x <= 60) else 70)\n"
   ]
  },
  {
   "cell_type": "code",
   "execution_count": 72,
   "metadata": {
    "scrolled": false
   },
   "outputs": [
    {
     "data": {
      "text/plain": [
       "PHYSICAL_CONDITION              0\n",
       "DAMAGE                          0\n",
       "REPORT_TYPE                  5433\n",
       "VEHICLE_TYPE                    0\n",
       "VEHICLE_YEAR                10926\n",
       "UNIT_NO                         0\n",
       "NUM_UNITS                       0\n",
       "DEVICE_CONDITION                0\n",
       "CRASH_RECORD_ID                 0\n",
       "HIT_AND_RUN_I              214022\n",
       "VEHICLE_USE                     0\n",
       "DRIVERS_LICENSE_CLASS           0\n",
       "POSTED_SPEED_LIMIT              0\n",
       "TRAFFIC_CONTROL_DEVICE          0\n",
       "DRIVER_VISION                   0\n",
       "ROADWAY_SURFACE_COND            0\n",
       "OCCUPANT_CNT                    0\n",
       "WEATHER_CONDITION               0\n",
       "LIGHTING_CONDITION              0\n",
       "FIRST_CRASH_TYPE                0\n",
       "BAC_RESULT                      0\n",
       "TRAFFICWAY_TYPE                 0\n",
       "CRASH_TYPE                      0\n",
       "LATITUDE                        0\n",
       "LONGITUDE                       0\n",
       "PRIM_CONTRIBUTORY_CAUSE         0\n",
       "INJURIES_TOTAL                  0\n",
       "EXCEED_SPEED_LIMIT_I       221433\n",
       "INJURIES_FATAL                  0\n",
       "MANEUVER                        0\n",
       "DRIVER_ACTION                   0\n",
       "TRAVEL_DIRECTION                0\n",
       "CRASH_HOUR                      0\n",
       "CRASH_DAY_OF_WEEK               0\n",
       "CRASH_MONTH                     0\n",
       "STREET                          0\n",
       "MOST_SEVERE_INJURY              0\n",
       "CRASH_YEAR                      0\n",
       "ROAD_DEFECT                     0\n",
       "ALIGNMENT                       0\n",
       "AGE                             0\n",
       "LANE_CNT                        0\n",
       "INTERSECTION_RELATED_I     161666\n",
       "CELL_PHONE_USE             221666\n",
       "NOT_RIGHT_OF_WAY_I         212275\n",
       "dtype: int64"
      ]
     },
     "execution_count": 72,
     "metadata": {},
     "output_type": "execute_result"
    }
   ],
   "source": [
    "pd.isnull(x).sum()\n"
   ]
  },
  {
   "cell_type": "code",
   "execution_count": 73,
   "metadata": {},
   "outputs": [
    {
     "data": {
      "text/plain": [
       "Index(['PHYSICAL_CONDITION', 'DAMAGE', 'REPORT_TYPE', 'VEHICLE_TYPE',\n",
       "       'VEHICLE_YEAR', 'UNIT_NO', 'NUM_UNITS', 'DEVICE_CONDITION',\n",
       "       'CRASH_RECORD_ID', 'HIT_AND_RUN_I', 'VEHICLE_USE',\n",
       "       'DRIVERS_LICENSE_CLASS', 'POSTED_SPEED_LIMIT', 'TRAFFIC_CONTROL_DEVICE',\n",
       "       'DRIVER_VISION', 'ROADWAY_SURFACE_COND', 'OCCUPANT_CNT',\n",
       "       'WEATHER_CONDITION', 'LIGHTING_CONDITION', 'FIRST_CRASH_TYPE',\n",
       "       'BAC_RESULT', 'TRAFFICWAY_TYPE', 'CRASH_TYPE', 'LATITUDE', 'LONGITUDE',\n",
       "       'PRIM_CONTRIBUTORY_CAUSE', 'INJURIES_TOTAL', 'EXCEED_SPEED_LIMIT_I',\n",
       "       'INJURIES_FATAL', 'MANEUVER', 'DRIVER_ACTION', 'TRAVEL_DIRECTION',\n",
       "       'CRASH_HOUR', 'CRASH_DAY_OF_WEEK', 'CRASH_MONTH', 'STREET',\n",
       "       'MOST_SEVERE_INJURY', 'CRASH_YEAR', 'ROAD_DEFECT', 'ALIGNMENT', 'AGE',\n",
       "       'LANE_CNT', 'INTERSECTION_RELATED_I', 'CELL_PHONE_USE',\n",
       "       'NOT_RIGHT_OF_WAY_I'],\n",
       "      dtype='object')"
      ]
     },
     "execution_count": 73,
     "metadata": {},
     "output_type": "execute_result"
    }
   ],
   "source": [
    "x.columns"
   ]
  },
  {
   "cell_type": "code",
   "execution_count": 74,
   "metadata": {
    "scrolled": true
   },
   "outputs": [
    {
     "data": {
      "text/plain": [
       "UNABLE TO DETERMINE                                                                 63726\n",
       "FAILING TO YIELD RIGHT-OF-WAY                                                       31696\n",
       "FOLLOWING TOO CLOSELY                                                               28516\n",
       "FAILING TO REDUCE SPEED TO AVOID CRASH                                              10880\n",
       "IMPROPER BACKING                                                                    10458\n",
       "IMPROPER OVERTAKING/PASSING                                                         10278\n",
       "IMPROPER LANE USAGE                                                                  9536\n",
       "IMPROPER TURNING/NO SIGNAL                                                           9078\n",
       "NOT APPLICABLE                                                                       8716\n",
       "DRIVING SKILLS/KNOWLEDGE/EXPERIENCE                                                  7706\n",
       "WEATHER                                                                              5144\n",
       "DISREGARDING TRAFFIC SIGNALS                                                         4084\n",
       "DISTRACTION - FROM INSIDE VEHICLE                                                    2363\n",
       "DISREGARDING STOP SIGN                                                               2266\n",
       "VISION OBSCURED (SIGNS, TREE LIMBS, BUILDINGS, ETC.)                                 1992\n",
       "EQUIPMENT - VEHICLE CONDITION                                                        1912\n",
       "PHYSICAL CONDITION OF DRIVER                                                         1776\n",
       "UNDER THE INFLUENCE OF ALCOHOL/DRUGS (USE WHEN ARREST IS EFFECTED)                   1685\n",
       "OPERATING VEHICLE IN ERRATIC, RECKLESS, CARELESS, NEGLIGENT OR AGGRESSIVE MANNER     1576\n",
       "DISTRACTION - FROM OUTSIDE VEHICLE                                                   1433\n",
       "ROAD ENGINEERING/SURFACE/MARKING DEFECTS                                             1109\n",
       "EXCEEDING SAFE SPEED FOR CONDITIONS                                                  1014\n",
       "ROAD CONSTRUCTION/MAINTENANCE                                                         895\n",
       "DRIVING ON WRONG SIDE/WRONG WAY                                                       803\n",
       "EXCEEDING AUTHORIZED SPEED LIMIT                                                      727\n",
       "EVASIVE ACTION DUE TO ANIMAL, OBJECT, NONMOTORIST                                     579\n",
       "DISREGARDING OTHER TRAFFIC SIGNS                                                      522\n",
       "CELL PHONE USE OTHER THAN TEXTING                                                     380\n",
       "DISREGARDING ROAD MARKINGS                                                            321\n",
       "ANIMAL                                                                                254\n",
       "TURNING RIGHT ON RED                                                                  169\n",
       "HAD BEEN DRINKING (USE WHEN ARREST IS NOT MADE)                                       162\n",
       "DISTRACTION - OTHER ELECTRONIC DEVICE (NAVIGATION DEVICE, DVD PLAYER, ETC.)           154\n",
       "DISREGARDING YIELD SIGN                                                               102\n",
       "TEXTING                                                                               100\n",
       "RELATED TO BUS STOP                                                                    61\n",
       "PASSING STOPPED SCHOOL BUS                                                             26\n",
       "OBSTRUCTED CROSSWALKS                                                                  18\n",
       "BICYCLE ADVANCING LEGALLY ON RED LIGHT                                                 17\n",
       "MOTORCYCLE ADVANCING LEGALLY ON RED LIGHT                                               5\n",
       "Name: PRIM_CONTRIBUTORY_CAUSE, dtype: int64"
      ]
     },
     "execution_count": 74,
     "metadata": {},
     "output_type": "execute_result"
    }
   ],
   "source": [
    "x['PRIM_CONTRIBUTORY_CAUSE'].value_counts()"
   ]
  },
  {
   "cell_type": "code",
   "execution_count": 75,
   "metadata": {
    "scrolled": false
   },
   "outputs": [
    {
     "data": {
      "text/plain": [
       "<matplotlib.axes._subplots.AxesSubplot at 0x209b55b23c8>"
      ]
     },
     "execution_count": 75,
     "metadata": {},
     "output_type": "execute_result"
    },
    {
     "data": {
      "image/png": "[encoded data removed]",
      "text/plain": [
       "<Figure size 432x288 with 1 Axes>"
      ]
     },
     "metadata": {
      "needs_background": "light"
     },
     "output_type": "display_data"
    }
   ],
   "source": [
    "x['PRIM_CONTRIBUTORY_CAUSE'].value_counts().plot(kind='bar')"
   ]
  },
  {
   "cell_type": "code",
   "execution_count": 76,
   "metadata": {},
   "outputs": [
    {
     "data": {
      "text/plain": [
       "Index(['PHYSICAL_CONDITION', 'DAMAGE', 'REPORT_TYPE', 'VEHICLE_TYPE',\n",
       "       'VEHICLE_YEAR', 'UNIT_NO', 'NUM_UNITS', 'DEVICE_CONDITION',\n",
       "       'CRASH_RECORD_ID', 'HIT_AND_RUN_I', 'VEHICLE_USE',\n",
       "       'DRIVERS_LICENSE_CLASS', 'POSTED_SPEED_LIMIT', 'TRAFFIC_CONTROL_DEVICE',\n",
       "       'DRIVER_VISION', 'ROADWAY_SURFACE_COND', 'OCCUPANT_CNT',\n",
       "       'WEATHER_CONDITION', 'LIGHTING_CONDITION', 'FIRST_CRASH_TYPE',\n",
       "       'BAC_RESULT', 'TRAFFICWAY_TYPE', 'CRASH_TYPE', 'LATITUDE', 'LONGITUDE',\n",
       "       'PRIM_CONTRIBUTORY_CAUSE', 'INJURIES_TOTAL', 'EXCEED_SPEED_LIMIT_I',\n",
       "       'INJURIES_FATAL', 'MANEUVER', 'DRIVER_ACTION', 'TRAVEL_DIRECTION',\n",
       "       'CRASH_HOUR', 'CRASH_DAY_OF_WEEK', 'CRASH_MONTH', 'STREET',\n",
       "       'MOST_SEVERE_INJURY', 'CRASH_YEAR', 'ROAD_DEFECT', 'ALIGNMENT', 'AGE',\n",
       "       'LANE_CNT', 'INTERSECTION_RELATED_I', 'CELL_PHONE_USE',\n",
       "       'NOT_RIGHT_OF_WAY_I'],\n",
       "      dtype='object')"
      ]
     },
     "execution_count": 76,
     "metadata": {},
     "output_type": "execute_result"
    }
   ],
   "source": [
    "x.columns"
   ]
  },
  {
   "cell_type": "code",
   "execution_count": 77,
   "metadata": {},
   "outputs": [
    {
     "data": {
      "text/plain": [
       "NO CONTROLS                 120625\n",
       "FUNCTIONING PROPERLY         86967\n",
       "UNKNOWN                      10440\n",
       "OTHER                         1826\n",
       "FUNCTIONING IMPROPERLY        1445\n",
       "NOT FUNCTIONING                774\n",
       "WORN REFLECTIVE MATERIAL       127\n",
       "MISSING                         35\n",
       "Name: DEVICE_CONDITION, dtype: int64"
      ]
     },
     "execution_count": 77,
     "metadata": {},
     "output_type": "execute_result"
    }
   ],
   "source": [
    "x.DEVICE_CONDITION.value_counts()"
   ]
  },
  {
   "cell_type": "code",
   "execution_count": 78,
   "metadata": {},
   "outputs": [],
   "source": [
    "x.columns = x.columns.str.strip()"
   ]
  },
  {
   "cell_type": "code",
   "execution_count": 79,
   "metadata": {},
   "outputs": [
    {
     "name": "stderr",
     "output_type": "stream",
     "text": [
      "C:\\Users\\jrizz_000\\anaconda3\\anaconda3\\envs\\learn-env\\lib\\site-packages\\ipykernel_launcher.py:1: SettingWithCopyWarning: \n",
      "A value is trying to be set on a copy of a slice from a DataFrame.\n",
      "Try using .loc[row_indexer,col_indexer] = value instead\n",
      "\n",
      "See the caveats in the documentation: http://pandas.pydata.org/pandas-docs/stable/user_guide/indexing.html#returning-a-view-versus-a-copy\n",
      "  \"\"\"Entry point for launching an IPython kernel.\n",
      "C:\\Users\\jrizz_000\\anaconda3\\anaconda3\\envs\\learn-env\\lib\\site-packages\\ipykernel_launcher.py:3: SettingWithCopyWarning: \n",
      "A value is trying to be set on a copy of a slice from a DataFrame.\n",
      "Try using .loc[row_indexer,col_indexer] = value instead\n",
      "\n",
      "See the caveats in the documentation: http://pandas.pydata.org/pandas-docs/stable/user_guide/indexing.html#returning-a-view-versus-a-copy\n",
      "  This is separate from the ipykernel package so we can avoid doing imports until\n",
      "C:\\Users\\jrizz_000\\anaconda3\\anaconda3\\envs\\learn-env\\lib\\site-packages\\ipykernel_launcher.py:4: SettingWithCopyWarning: \n",
      "A value is trying to be set on a copy of a slice from a DataFrame.\n",
      "Try using .loc[row_indexer,col_indexer] = value instead\n",
      "\n",
      "See the caveats in the documentation: http://pandas.pydata.org/pandas-docs/stable/user_guide/indexing.html#returning-a-view-versus-a-copy\n",
      "  after removing the cwd from sys.path.\n",
      "C:\\Users\\jrizz_000\\anaconda3\\anaconda3\\envs\\learn-env\\lib\\site-packages\\ipykernel_launcher.py:5: SettingWithCopyWarning: \n",
      "A value is trying to be set on a copy of a slice from a DataFrame.\n",
      "Try using .loc[row_indexer,col_indexer] = value instead\n",
      "\n",
      "See the caveats in the documentation: http://pandas.pydata.org/pandas-docs/stable/user_guide/indexing.html#returning-a-view-versus-a-copy\n",
      "  \"\"\"\n",
      "C:\\Users\\jrizz_000\\anaconda3\\anaconda3\\envs\\learn-env\\lib\\site-packages\\ipykernel_launcher.py:7: SettingWithCopyWarning: \n",
      "A value is trying to be set on a copy of a slice from a DataFrame.\n",
      "Try using .loc[row_indexer,col_indexer] = value instead\n",
      "\n",
      "See the caveats in the documentation: http://pandas.pydata.org/pandas-docs/stable/user_guide/indexing.html#returning-a-view-versus-a-copy\n",
      "  import sys\n",
      "C:\\Users\\jrizz_000\\anaconda3\\anaconda3\\envs\\learn-env\\lib\\site-packages\\ipykernel_launcher.py:8: SettingWithCopyWarning: \n",
      "A value is trying to be set on a copy of a slice from a DataFrame.\n",
      "Try using .loc[row_indexer,col_indexer] = value instead\n",
      "\n",
      "See the caveats in the documentation: http://pandas.pydata.org/pandas-docs/stable/user_guide/indexing.html#returning-a-view-versus-a-copy\n",
      "  \n",
      "C:\\Users\\jrizz_000\\anaconda3\\anaconda3\\envs\\learn-env\\lib\\site-packages\\ipykernel_launcher.py:10: SettingWithCopyWarning: \n",
      "A value is trying to be set on a copy of a slice from a DataFrame.\n",
      "Try using .loc[row_indexer,col_indexer] = value instead\n",
      "\n",
      "See the caveats in the documentation: http://pandas.pydata.org/pandas-docs/stable/user_guide/indexing.html#returning-a-view-versus-a-copy\n",
      "  # Remove the CWD from sys.path while we load stuff.\n",
      "C:\\Users\\jrizz_000\\anaconda3\\anaconda3\\envs\\learn-env\\lib\\site-packages\\ipykernel_launcher.py:11: SettingWithCopyWarning: \n",
      "A value is trying to be set on a copy of a slice from a DataFrame.\n",
      "Try using .loc[row_indexer,col_indexer] = value instead\n",
      "\n",
      "See the caveats in the documentation: http://pandas.pydata.org/pandas-docs/stable/user_guide/indexing.html#returning-a-view-versus-a-copy\n",
      "  # This is added back by InteractiveShellApp.init_path()\n",
      "C:\\Users\\jrizz_000\\anaconda3\\anaconda3\\envs\\learn-env\\lib\\site-packages\\ipykernel_launcher.py:12: SettingWithCopyWarning: \n",
      "A value is trying to be set on a copy of a slice from a DataFrame.\n",
      "Try using .loc[row_indexer,col_indexer] = value instead\n",
      "\n",
      "See the caveats in the documentation: http://pandas.pydata.org/pandas-docs/stable/user_guide/indexing.html#returning-a-view-versus-a-copy\n",
      "  if sys.path[0] == '':\n",
      "C:\\Users\\jrizz_000\\anaconda3\\anaconda3\\envs\\learn-env\\lib\\site-packages\\ipykernel_launcher.py:13: SettingWithCopyWarning: \n",
      "A value is trying to be set on a copy of a slice from a DataFrame.\n",
      "Try using .loc[row_indexer,col_indexer] = value instead\n",
      "\n",
      "See the caveats in the documentation: http://pandas.pydata.org/pandas-docs/stable/user_guide/indexing.html#returning-a-view-versus-a-copy\n",
      "  del sys.path[0]\n",
      "C:\\Users\\jrizz_000\\anaconda3\\anaconda3\\envs\\learn-env\\lib\\site-packages\\ipykernel_launcher.py:15: SettingWithCopyWarning: \n",
      "A value is trying to be set on a copy of a slice from a DataFrame.\n",
      "Try using .loc[row_indexer,col_indexer] = value instead\n",
      "\n",
      "See the caveats in the documentation: http://pandas.pydata.org/pandas-docs/stable/user_guide/indexing.html#returning-a-view-versus-a-copy\n",
      "  from ipykernel import kernelapp as app\n",
      "C:\\Users\\jrizz_000\\anaconda3\\anaconda3\\envs\\learn-env\\lib\\site-packages\\ipykernel_launcher.py:16: SettingWithCopyWarning: \n",
      "A value is trying to be set on a copy of a slice from a DataFrame.\n",
      "Try using .loc[row_indexer,col_indexer] = value instead\n",
      "\n",
      "See the caveats in the documentation: http://pandas.pydata.org/pandas-docs/stable/user_guide/indexing.html#returning-a-view-versus-a-copy\n",
      "  app.launch_new_instance()\n",
      "C:\\Users\\jrizz_000\\anaconda3\\anaconda3\\envs\\learn-env\\lib\\site-packages\\ipykernel_launcher.py:18: SettingWithCopyWarning: \n",
      "A value is trying to be set on a copy of a slice from a DataFrame.\n",
      "Try using .loc[row_indexer,col_indexer] = value instead\n",
      "\n",
      "See the caveats in the documentation: http://pandas.pydata.org/pandas-docs/stable/user_guide/indexing.html#returning-a-view-versus-a-copy\n",
      "C:\\Users\\jrizz_000\\anaconda3\\anaconda3\\envs\\learn-env\\lib\\site-packages\\ipykernel_launcher.py:19: SettingWithCopyWarning: \n",
      "A value is trying to be set on a copy of a slice from a DataFrame.\n",
      "Try using .loc[row_indexer,col_indexer] = value instead\n",
      "\n",
      "See the caveats in the documentation: http://pandas.pydata.org/pandas-docs/stable/user_guide/indexing.html#returning-a-view-versus-a-copy\n",
      "C:\\Users\\jrizz_000\\anaconda3\\anaconda3\\envs\\learn-env\\lib\\site-packages\\ipykernel_launcher.py:20: SettingWithCopyWarning: \n",
      "A value is trying to be set on a copy of a slice from a DataFrame.\n",
      "Try using .loc[row_indexer,col_indexer] = value instead\n",
      "\n",
      "See the caveats in the documentation: http://pandas.pydata.org/pandas-docs/stable/user_guide/indexing.html#returning-a-view-versus-a-copy\n",
      "C:\\Users\\jrizz_000\\anaconda3\\anaconda3\\envs\\learn-env\\lib\\site-packages\\ipykernel_launcher.py:21: SettingWithCopyWarning: \n",
      "A value is trying to be set on a copy of a slice from a DataFrame.\n",
      "Try using .loc[row_indexer,col_indexer] = value instead\n",
      "\n",
      "See the caveats in the documentation: http://pandas.pydata.org/pandas-docs/stable/user_guide/indexing.html#returning-a-view-versus-a-copy\n",
      "C:\\Users\\jrizz_000\\anaconda3\\anaconda3\\envs\\learn-env\\lib\\site-packages\\ipykernel_launcher.py:22: SettingWithCopyWarning: \n",
      "A value is trying to be set on a copy of a slice from a DataFrame.\n",
      "Try using .loc[row_indexer,col_indexer] = value instead\n",
      "\n",
      "See the caveats in the documentation: http://pandas.pydata.org/pandas-docs/stable/user_guide/indexing.html#returning-a-view-versus-a-copy\n",
      "C:\\Users\\jrizz_000\\anaconda3\\anaconda3\\envs\\learn-env\\lib\\site-packages\\ipykernel_launcher.py:24: SettingWithCopyWarning: \n",
      "A value is trying to be set on a copy of a slice from a DataFrame.\n",
      "Try using .loc[row_indexer,col_indexer] = value instead\n",
      "\n",
      "See the caveats in the documentation: http://pandas.pydata.org/pandas-docs/stable/user_guide/indexing.html#returning-a-view-versus-a-copy\n",
      "C:\\Users\\jrizz_000\\anaconda3\\anaconda3\\envs\\learn-env\\lib\\site-packages\\ipykernel_launcher.py:25: SettingWithCopyWarning: \n",
      "A value is trying to be set on a copy of a slice from a DataFrame.\n",
      "Try using .loc[row_indexer,col_indexer] = value instead\n",
      "\n",
      "See the caveats in the documentation: http://pandas.pydata.org/pandas-docs/stable/user_guide/indexing.html#returning-a-view-versus-a-copy\n",
      "C:\\Users\\jrizz_000\\anaconda3\\anaconda3\\envs\\learn-env\\lib\\site-packages\\ipykernel_launcher.py:26: SettingWithCopyWarning: \n",
      "A value is trying to be set on a copy of a slice from a DataFrame.\n",
      "Try using .loc[row_indexer,col_indexer] = value instead\n",
      "\n",
      "See the caveats in the documentation: http://pandas.pydata.org/pandas-docs/stable/user_guide/indexing.html#returning-a-view-versus-a-copy\n",
      "C:\\Users\\jrizz_000\\anaconda3\\anaconda3\\envs\\learn-env\\lib\\site-packages\\ipykernel_launcher.py:28: SettingWithCopyWarning: \n",
      "A value is trying to be set on a copy of a slice from a DataFrame.\n",
      "Try using .loc[row_indexer,col_indexer] = value instead\n",
      "\n",
      "See the caveats in the documentation: http://pandas.pydata.org/pandas-docs/stable/user_guide/indexing.html#returning-a-view-versus-a-copy\n"
     ]
    },
    {
     "name": "stderr",
     "output_type": "stream",
     "text": [
      "C:\\Users\\jrizz_000\\anaconda3\\anaconda3\\envs\\learn-env\\lib\\site-packages\\ipykernel_launcher.py:31: SettingWithCopyWarning: \n",
      "A value is trying to be set on a copy of a slice from a DataFrame.\n",
      "Try using .loc[row_indexer,col_indexer] = value instead\n",
      "\n",
      "See the caveats in the documentation: http://pandas.pydata.org/pandas-docs/stable/user_guide/indexing.html#returning-a-view-versus-a-copy\n",
      "C:\\Users\\jrizz_000\\anaconda3\\anaconda3\\envs\\learn-env\\lib\\site-packages\\ipykernel_launcher.py:32: SettingWithCopyWarning: \n",
      "A value is trying to be set on a copy of a slice from a DataFrame.\n",
      "Try using .loc[row_indexer,col_indexer] = value instead\n",
      "\n",
      "See the caveats in the documentation: http://pandas.pydata.org/pandas-docs/stable/user_guide/indexing.html#returning-a-view-versus-a-copy\n",
      "C:\\Users\\jrizz_000\\anaconda3\\anaconda3\\envs\\learn-env\\lib\\site-packages\\ipykernel_launcher.py:33: SettingWithCopyWarning: \n",
      "A value is trying to be set on a copy of a slice from a DataFrame.\n",
      "Try using .loc[row_indexer,col_indexer] = value instead\n",
      "\n",
      "See the caveats in the documentation: http://pandas.pydata.org/pandas-docs/stable/user_guide/indexing.html#returning-a-view-versus-a-copy\n",
      "C:\\Users\\jrizz_000\\anaconda3\\anaconda3\\envs\\learn-env\\lib\\site-packages\\ipykernel_launcher.py:34: SettingWithCopyWarning: \n",
      "A value is trying to be set on a copy of a slice from a DataFrame.\n",
      "Try using .loc[row_indexer,col_indexer] = value instead\n",
      "\n",
      "See the caveats in the documentation: http://pandas.pydata.org/pandas-docs/stable/user_guide/indexing.html#returning-a-view-versus-a-copy\n",
      "C:\\Users\\jrizz_000\\anaconda3\\anaconda3\\envs\\learn-env\\lib\\site-packages\\ipykernel_launcher.py:36: SettingWithCopyWarning: \n",
      "A value is trying to be set on a copy of a slice from a DataFrame.\n",
      "Try using .loc[row_indexer,col_indexer] = value instead\n",
      "\n",
      "See the caveats in the documentation: http://pandas.pydata.org/pandas-docs/stable/user_guide/indexing.html#returning-a-view-versus-a-copy\n"
     ]
    }
   ],
   "source": [
    "x['PRIM_CONTRIBUTORY_CAUSE'] = x['PRIM_CONTRIBUTORY_CAUSE'].str.replace(r'[^\\w\\s]+', '')\n",
    "\n",
    "x['PRIM_CONTRIBUTORY_CAUSE'] = x['PRIM_CONTRIBUTORY_CAUSE'].str.replace('DISTRACTION  OTHER ELECTRONIC DEVICE NAVIGATION DEVICE DVD PLAYER ETC','DISTRACTION  FROM INSIDE VEHICLE')\n",
    "x['PRIM_CONTRIBUTORY_CAUSE'] = x['PRIM_CONTRIBUTORY_CAUSE'].str.replace('CELL PHONE USE OTHER THAN TEXTING','DISTRACTION  FROM INSIDE VEHICLE')\n",
    "x['PRIM_CONTRIBUTORY_CAUSE'] = x['PRIM_CONTRIBUTORY_CAUSE'].str.replace('TEXTING','DISTRACTION  FROM INSIDE VEHICLE')\n",
    "\n",
    "x['PRIM_CONTRIBUTORY_CAUSE'] = x['PRIM_CONTRIBUTORY_CAUSE'].str.replace('MOTORCYCLE ADVANCING LEGALLY ON RED LIGHT','CYCLE ADVANCING LEGALLY ON RED LIGHT')\n",
    "x['PRIM_CONTRIBUTORY_CAUSE'] = x['PRIM_CONTRIBUTORY_CAUSE'].str.replace('BICYCLE ADVANCING LEGALLY ON RED LIGHT','CYCLE ADVANCING LEGALLY ON RED LIGHT')\n",
    "\n",
    "x['PRIM_CONTRIBUTORY_CAUSE'] = x['PRIM_CONTRIBUTORY_CAUSE'].str.replace('UNDER THE INFLUENCE OF ALCOHOLDRUGS USE WHEN ARREST IS EFFECTED', 'INTOXICATED/PHYSICAL CONDITION')\n",
    "x['PRIM_CONTRIBUTORY_CAUSE'] = x['PRIM_CONTRIBUTORY_CAUSE'].str.replace('PHYSICAL CONDITION OF DRIVER','INTOXICATED/PHYSICAL CONDITION')\n",
    "x['PRIM_CONTRIBUTORY_CAUSE'] = x['PRIM_CONTRIBUTORY_CAUSE'].str.replace('HAD BEEN DRINKING USE WHEN ARREST IS NOT MADE','INTOXICATED/PHYSICAL CONDITION')\n",
    "x['PRIM_CONTRIBUTORY_CAUSE'] = x['PRIM_CONTRIBUTORY_CAUSE'].str.replace('OPERATING VEHICLE IN ERRATIC RECKLESS CARELESS NEGLIGENT OR AGGRESSIVE MANNER','INTOXICATED/PHYSICAL CONDITION')\n",
    "\n",
    "x['PRIM_CONTRIBUTORY_CAUSE'] = x['PRIM_CONTRIBUTORY_CAUSE'].str.replace('ROAD CONSTRUCTIONMAINTENANCE','ROAD CONDITIONS')\n",
    "x['PRIM_CONTRIBUTORY_CAUSE'] = x['PRIM_CONTRIBUTORY_CAUSE'].str.replace('ROAD ENGINEERINGSURFACEMARKING DEFECTS','ROAD CONDITIONS')\n",
    "    \n",
    "x['PRIM_CONTRIBUTORY_CAUSE'] = x['PRIM_CONTRIBUTORY_CAUSE'].str.replace('DISREGARDING OTHER TRAFFIC SIGNS','DISREGARDING TRAFFIC SIGNALS')\n",
    "x['PRIM_CONTRIBUTORY_CAUSE'] = x['PRIM_CONTRIBUTORY_CAUSE'].str.replace('DISREGARDING ROAD MARKINGS','DISREGARDING TRAFFIC SIGNALS')\n",
    "x['PRIM_CONTRIBUTORY_CAUSE'] = x['PRIM_CONTRIBUTORY_CAUSE'].str.replace('DISREGARDING STOP SIGN','DISREGARDING TRAFFIC SIGNALS')\n",
    "x['PRIM_CONTRIBUTORY_CAUSE'] = x['PRIM_CONTRIBUTORY_CAUSE'].str.replace('DRIVING ON WRONG SIDEWRONG WAY','DISREGARDING TRAFFIC SIGNALS')\n",
    "x['PRIM_CONTRIBUTORY_CAUSE'] = x['PRIM_CONTRIBUTORY_CAUSE'].str.replace('DISREGARDING YIELD SIGN','DISREGARDING TRAFFIC SIGNALS')\n",
    "\n",
    "x['PRIM_CONTRIBUTORY_CAUSE'] = x['PRIM_CONTRIBUTORY_CAUSE'].str.replace('EVASIVE ACTION DUE TO ANIMAL OBJECT NONMOTORIST','DISTRACTION  FROM OUTSIDE VEHICLE')\n",
    "x['PRIM_CONTRIBUTORY_CAUSE'] = x['PRIM_CONTRIBUTORY_CAUSE'].str.replace('ANIMAL','DISTRACTION  FROM OUTSIDE VEHICLE')\n",
    "x['PRIM_CONTRIBUTORY_CAUSE'] = x['PRIM_CONTRIBUTORY_CAUSE'].str.replace('OBSTRUCTED CROSSWALKS','DISTRACTION  FROM OUTSIDE VEHICLE')\n",
    "\n",
    "x['PRIM_CONTRIBUTORY_CAUSE'] = x['PRIM_CONTRIBUTORY_CAUSE'].str.replace('PASSING STOPPED SCHOOL BUS','RELATED TO BUS STOP')\n",
    "\n",
    "\n",
    "x['PRIM_CONTRIBUTORY_CAUSE'] = x['PRIM_CONTRIBUTORY_CAUSE'].str.replace('EXCEEDING AUTHORIZED SPEED LIMIT','SPEED RELATED')\n",
    "x['PRIM_CONTRIBUTORY_CAUSE'] = x['PRIM_CONTRIBUTORY_CAUSE'].str.replace('FAILING TO REDUCE SPEED TO AVOID CRASH','SPEED RELATED')\n",
    "x['PRIM_CONTRIBUTORY_CAUSE'] = x['PRIM_CONTRIBUTORY_CAUSE'].str.replace('EXCEEDING SAFE SPEED FOR CONDITIONS','SPEED RELATED')\n",
    "x['PRIM_CONTRIBUTORY_CAUSE'] = x['PRIM_CONTRIBUTORY_CAUSE'].str.replace('TURNING RIGHT ON RED','SPEED RELATED')\n",
    "\n",
    "x['PRIM_CONTRIBUTORY_CAUSE'] = x['PRIM_CONTRIBUTORY_CAUSE'].str.replace('VISION OBSCURED SIGNS TREE LIMBS BUILDINGS ETC','DISTRACTION  FROM OUTSIDE VEHICLE')\n",
    "# x['PRIM_CONTRIBUTORY_CAUSE'] = x['PRIM_CONTRIBUTORY_CAUSE'].str.replace('DISTRACTION  FROM OUTSIDE VEHICLE','SOME SORT OF DISTRACTION')\n",
    "# x['PRIM_CONTRIBUTORY_CAUSE'] = x['PRIM_CONTRIBUTORY_CAUSE'].str.replace('DISTRACTION  FROM INSIDE VEHICLE','SOME SORT OF DISTRACTION')\n"
   ]
  },
  {
   "cell_type": "code",
   "execution_count": 80,
   "metadata": {},
   "outputs": [],
   "source": [
    "x = x[(x.PRIM_CONTRIBUTORY_CAUSE != \"UNABLE TO DETERMINE\")]\n",
    "x = x[(x.PRIM_CONTRIBUTORY_CAUSE != \"NOT APPLICABLE\")]\n",
    "x = x[(x.PRIM_CONTRIBUTORY_CAUSE != \"CYCLE ADVANCING LEGALLY ON RED LIGHT\")]\n",
    "x = x[(x.PRIM_CONTRIBUTORY_CAUSE != \"RELATED TO BUS STOP\")]\n"
   ]
  },
  {
   "cell_type": "code",
   "execution_count": 81,
   "metadata": {},
   "outputs": [],
   "source": [
    "x = x[(x.LANE_CNT != '433,634')]"
   ]
  },
  {
   "cell_type": "code",
   "execution_count": 82,
   "metadata": {
    "scrolled": true
   },
   "outputs": [
    {
     "data": {
      "text/plain": [
       "(149687, 45)"
      ]
     },
     "execution_count": 82,
     "metadata": {},
     "output_type": "execute_result"
    }
   ],
   "source": [
    "x.shape"
   ]
  },
  {
   "cell_type": "code",
   "execution_count": 83,
   "metadata": {},
   "outputs": [],
   "source": [
    "x.to_csv('dx.csv')"
   ]
  },
  {
   "cell_type": "code",
   "execution_count": null,
   "metadata": {
    "scrolled": true
   },
   "outputs": [],
   "source": [
    "df.VEHICLE_DEFECT.value_counts()"
   ]
  },
  {
   "cell_type": "code",
   "execution_count": null,
   "metadata": {},
   "outputs": [],
   "source": []
  },
  {
   "cell_type": "code",
   "execution_count": null,
   "metadata": {},
   "outputs": [],
   "source": []
  },
  {
   "cell_type": "code",
   "execution_count": null,
   "metadata": {},
   "outputs": [],
   "source": []
  },
  {
   "cell_type": "code",
   "execution_count": null,
   "metadata": {},
   "outputs": [],
   "source": []
  },
  {
   "cell_type": "code",
   "execution_count": null,
   "metadata": {},
   "outputs": [],
   "source": []
  },
  {
   "cell_type": "code",
   "execution_count": null,
   "metadata": {},
   "outputs": [],
   "source": []
  },
  {
   "cell_type": "code",
   "execution_count": null,
   "metadata": {},
   "outputs": [],
   "source": []
  },
  {
   "cell_type": "code",
   "execution_count": null,
   "metadata": {},
   "outputs": [],
   "source": []
  },
  {
   "cell_type": "code",
   "execution_count": null,
   "metadata": {},
   "outputs": [],
   "source": []
  },
  {
   "cell_type": "code",
   "execution_count": null,
   "metadata": {},
   "outputs": [],
   "source": []
  },
  {
   "cell_type": "code",
   "execution_count": null,
   "metadata": {},
   "outputs": [],
   "source": []
  },
  {
   "cell_type": "code",
   "execution_count": null,
   "metadata": {},
   "outputs": [],
   "source": []
  },
  {
   "cell_type": "code",
   "execution_count": null,
   "metadata": {},
   "outputs": [],
   "source": []
  },
  {
   "cell_type": "code",
   "execution_count": null,
   "metadata": {},
   "outputs": [],
   "source": []
  },
  {
   "cell_type": "code",
   "execution_count": null,
   "metadata": {},
   "outputs": [],
   "source": []
  },
  {
   "cell_type": "code",
   "execution_count": null,
   "metadata": {},
   "outputs": [],
   "source": []
  },
  {
   "cell_type": "code",
   "execution_count": null,
   "metadata": {},
   "outputs": [],
   "source": []
  }
 ],
 "metadata": {
  "kernelspec": {
   "display_name": "Python [conda env:learn-env] *",
   "language": "python",
   "name": "conda-env-learn-env-py"
  },
  "language_info": {
   "codemirror_mode": {
    "name": "ipython",
    "version": 3
   },
   "file_extension": ".py",
   "mimetype": "text/x-python",
   "name": "python",
   "nbconvert_exporter": "python",
   "pygments_lexer": "ipython3",
   "version": "3.6.9"
  }
 },
 "nbformat": 4,
 "nbformat_minor": 2
}
